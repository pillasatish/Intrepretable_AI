{
  "cells": [
    {
      "cell_type": "markdown",
      "source": [
        "# **Interpretable AI For Protein Expression Images and Associated Clinical Metadata (VGG16 for multi-channel stacked protein images)**\n",
        "\n",
        "## **1. Introduction**\n",
        "\n",
        "With a conservative frequency estimate of about 1:5,000, mitochondrial disorders are among the most prevalent inheritable diseases [1]. Diagnosis and understanding of the different mitochondrial diseases are extremely difficult because they have a wide range of symptoms in each patient and affect different organs and tissues of the body [2]. However, recent studies show deep learning algorithms with interpretability and explainability, especially Convolutional Neural Networks (CNN), can help us automatically diagnose and evaluate different diseases by detecting the different patterns in the images. In the study, we developed deep learning models using transfer learning to predict mitochondrial diseases and used existing machine learning interpretability and explainability AI approaches for computer vision, like Grad-CAM [3], and Neural Disentanglement (concept whitening) [4], to understand the features that result in the prediction of mitochondrial disease from protein expression images.\n",
        "\n",
        "## **2. Aim**\n",
        "\n",
        "To determine if Deep Learning (DL) can be used as a reliable method to classify mitochondrial diseases using interpretability\n",
        "and explainability approaches.\n",
        "\n",
        "• Interpretability Method: Neural Disentanglement\n",
        "\n",
        "• Explainability Method: Saliency Map \n",
        "\n",
        "## **3. Objective**\n",
        "\n",
        "This investigation has primarily two objectives:\n",
        "\n",
        "Determine whether it is possible to accurately diagnose mitochondrial diseases for multi-channel stacked protein images.\n",
        "\n",
        ">  Adapt the pre-trained deep learning models like VGG16 and ResNet-50 to classify different mitochondrial diseases using protein expression images obtained by image mass cytometry.     \n",
        "\n",
        ">  Evaluate, compare, and fine-tune different pre-trained model architectures using parameters like accuracy, precision, recall, f1 score, and confusion matrix.\n",
        "\n"
      ],
      "metadata": {
        "id": "YJgdHiG8Fij8"
      }
    },
    {
      "cell_type": "markdown",
      "metadata": {
        "id": "9Op-UroiI-kw"
      },
      "source": [
        "#**Introduction**"
      ]
    },
    {
      "cell_type": "markdown",
      "metadata": {
        "id": "wSSm5gWkEy3J"
      },
      "source": [
        "#**Importing essential libraries**"
      ]
    },
    {
      "cell_type": "code",
      "execution_count": 1,
      "metadata": {
        "colab": {
          "base_uri": "https://localhost:8080/"
        },
        "id": "WLGlEWggI95L",
        "outputId": "63132a68-5f09-4b41-88b9-33732448c229"
      },
      "outputs": [
        {
          "output_type": "stream",
          "name": "stdout",
          "text": [
            "Device mapping:\n",
            "/job:localhost/replica:0/task:0/device:GPU:0 -> device: 0, name: Tesla T4, pci bus id: 0000:00:04.0, compute capability: 7.5\n",
            "\n"
          ]
        }
      ],
      "source": [
        "# initiating gpu using tensorflow.\n",
        "import tensorflow as tf\n",
        "from tensorflow.compat.v1.keras.backend import set_session\n",
        "config = tf.compat.v1.ConfigProto()\n",
        "config.gpu_options.allow_growth = True\n",
        "config.log_device_placement = True\n",
        "sess = tf.compat.v1.Session(config=config)\n",
        "set_session(sess)"
      ]
    },
    {
      "cell_type": "code",
      "execution_count": 2,
      "metadata": {
        "colab": {
          "base_uri": "https://localhost:8080/"
        },
        "id": "jzZlDyaaLava",
        "outputId": "4e509837-ddfb-4310-aa0b-d74a5fe09dbf"
      },
      "outputs": [
        {
          "output_type": "stream",
          "name": "stdout",
          "text": [
            "Looking in indexes: https://pypi.org/simple, https://us-python.pkg.dev/colab-wheels/public/simple/\n",
            "Collecting patchify\n",
            "  Downloading patchify-0.2.3-py3-none-any.whl (6.6 kB)\n",
            "Requirement already satisfied: numpy<2,>=1 in /usr/local/lib/python3.7/dist-packages (from patchify) (1.21.6)\n",
            "Installing collected packages: patchify\n",
            "Successfully installed patchify-0.2.3\n",
            "Looking in indexes: https://pypi.org/simple, https://us-python.pkg.dev/colab-wheels/public/simple/\n",
            "Collecting split-folders\n",
            "  Downloading split_folders-0.5.1-py3-none-any.whl (8.4 kB)\n",
            "Installing collected packages: split-folders\n",
            "Successfully installed split-folders-0.5.1\n"
          ]
        }
      ],
      "source": [
        "import numpy as np\n",
        "import pandas as pd\n",
        "import glob\n",
        "import random \n",
        "import os\n",
        "import cv2\n",
        "from shutil import copy,copytree\n",
        "import shutil\n",
        "\n",
        "!pip install patchify\n",
        "from patchify import patchify\n",
        "\n",
        "from google.colab import files\n",
        "import os\n",
        "import zipfile\n",
        "\n",
        "#visulaziation\n",
        "import matplotlib.pyplot as plt\n",
        "from google.colab.patches import cv2_imshow\n",
        "\n",
        "\n",
        "# image\n",
        "from PIL import Image\n",
        "\n",
        "# sklearn\n",
        "from sklearn.preprocessing import LabelEncoder\n",
        "from sklearn.model_selection import train_test_split\n",
        "#tensorflow\n",
        "import tensorflow as tf\n",
        "from tensorflow.keras import Sequential\n",
        "from tensorflow.keras import layers\n",
        "from tensorflow.keras.callbacks import EarlyStopping, ReduceLROnPlateau\n",
        "from tensorflow.keras.utils import to_categorical\n",
        "from tensorflow.keras.preprocessing.image import ImageDataGenerator, load_img,img_to_array\n",
        "from tensorflow.keras.applications import VGG16, InceptionV3, ResNet101V2, Xception, ResNet50V2, VGG19\n",
        "from tensorflow.keras import optimizers\n",
        "from tensorflow.keras.optimizers import Adam\n",
        "#from tensorflow.keras.applications.vgg16 import preprocess_input\n",
        "from tensorflow.keras.models import load_model\n",
        "from tensorflow.keras import models, layers\n",
        "from keras.utils.vis_utils import plot_model\n",
        "from tensorflow.keras.layers import Dense,Conv2D,MaxPool2D,Flatten,Dropout,BatchNormalization,Activation,GlobalAveragePooling2D\n",
        "\n",
        "from sklearn.metrics import accuracy_score\n",
        "from sklearn.metrics import precision_score\n",
        "from sklearn.metrics import recall_score\n",
        "from sklearn.metrics import confusion_matrix\n",
        "\n",
        "#setting seed to reproduce the same result every time the code is re-run\n",
        "seed_num = 1\n",
        "tf.random.set_seed(seed_num)\n",
        "np.random.seed(seed_num)\n",
        "\n",
        "# install split-folder\n",
        "!pip install split-folders"
      ]
    },
    {
      "cell_type": "code",
      "execution_count": 3,
      "metadata": {
        "id": "mVdvrerPvquH"
      },
      "outputs": [],
      "source": [
        "import warnings\n",
        "warnings.filterwarnings(\"ignore\")"
      ]
    },
    {
      "cell_type": "code",
      "execution_count": 4,
      "metadata": {
        "colab": {
          "base_uri": "https://localhost:8080/"
        },
        "id": "WXRrrEzHICfa",
        "outputId": "b13da7da-acc6-4d54-8e20-7da749e173b1"
      },
      "outputs": [
        {
          "output_type": "stream",
          "name": "stdout",
          "text": [
            "Mounted at /content/drive\n"
          ]
        }
      ],
      "source": [
        "from google.colab import drive\n",
        "drive.mount('/content/drive')"
      ]
    },
    {
      "cell_type": "markdown",
      "metadata": {
        "id": "RMdypKSMDHmf"
      },
      "source": [
        "**Unziping the dataset**"
      ]
    },
    {
      "cell_type": "code",
      "execution_count": 5,
      "metadata": {
        "id": "1_78Z1mNIFM5"
      },
      "outputs": [],
      "source": [
        "%%capture\n",
        "!unzip /content/drive/MyDrive/Dataset.zip"
      ]
    },
    {
      "cell_type": "markdown",
      "metadata": {
        "id": "ADiR6jyFy-WN"
      },
      "source": [
        "#**Data Engineering**\n",
        "**Renaming all the files in the subfolder for both control and patient with subfolder names**"
      ]
    },
    {
      "cell_type": "code",
      "execution_count": 6,
      "metadata": {
        "id": "58LSJTgIxAZW"
      },
      "outputs": [],
      "source": [
        "d = [\"/content/Dataset/controls/C01\",\"/content/Dataset/controls/C02\",\"/content/Dataset/controls/C03\",\"/content/Dataset/controls/C04\"]\n",
        "for i in d:\n",
        "  for path in os.listdir(i):\n",
        "      full_path = os.path.join(i, path)\n",
        "      if os.path.isfile(full_path):\n",
        "          new_path = os.path.join(i, \"C0\"+str(d.index(i)+1)+\"_\"+ path)\n",
        "          os.rename(full_path, new_path)"
      ]
    },
    {
      "cell_type": "code",
      "execution_count": 7,
      "metadata": {
        "id": "MiUz2EmYzP8-"
      },
      "outputs": [],
      "source": [
        "d = [\"/content/Dataset/patients/P01\",\"/content/Dataset/patients/P02\",\"/content/Dataset/patients/P03\",\"/content/Dataset/patients/P04\",\"/content/Dataset/patients/P05\",\"/content/Dataset/patients/P06\",\"/content/Dataset/patients/P07\",\"/content/Dataset/patients/P08\",\"/content/Dataset/patients/P09\",\"/content/Dataset/patients/P10\"]\n",
        "for i in d:\n",
        "  for path in os.listdir(i):\n",
        "      full_path = os.path.join(i, path)\n",
        "      if os.path.isfile(full_path):\n",
        "          new_path = os.path.join(i, \"P0\"+str(d.index(i)+1)+\"_\" + path)\n",
        "          os.rename(full_path, new_path)"
      ]
    },
    {
      "cell_type": "markdown",
      "metadata": {
        "id": "TOH9-XvWdIVV"
      },
      "source": [
        "**Copying all the JPG images into Dataset_JPG directory and maintaing the tree structure of the directories**"
      ]
    },
    {
      "cell_type": "code",
      "execution_count": 8,
      "metadata": {
        "colab": {
          "base_uri": "https://localhost:8080/",
          "height": 0
        },
        "id": "EJIQ7kirACtd",
        "outputId": "b51f4b71-99a4-4c29-f0ec-89a3e1b3e03e"
      },
      "outputs": [
        {
          "output_type": "execute_result",
          "data": {
            "text/plain": [
              "'/content/Dataset_JPG'"
            ],
            "application/vnd.google.colaboratory.intrinsic+json": {
              "type": "string"
            }
          },
          "metadata": {},
          "execution_count": 8
        }
      ],
      "source": [
        "shutil.copytree('/content/Dataset', '/content/Dataset_JPG' , ignore=shutil.ignore_patterns('*.ome.tiff', '*.db'))"
      ]
    },
    {
      "cell_type": "markdown",
      "metadata": {
        "id": "OPltzpYmdnL6"
      },
      "source": [
        "**Copying all the TIFF images into Dataset_TIFF directory and maintaing the tree structure of the directories**"
      ]
    },
    {
      "cell_type": "code",
      "execution_count": 9,
      "metadata": {
        "colab": {
          "base_uri": "https://localhost:8080/",
          "height": 0
        },
        "id": "u8213cIldqmS",
        "outputId": "cd62add8-a594-4130-d7d4-5f781b10ce1c"
      },
      "outputs": [
        {
          "output_type": "execute_result",
          "data": {
            "text/plain": [
              "'/content/Dataset_TIFF'"
            ],
            "application/vnd.google.colaboratory.intrinsic+json": {
              "type": "string"
            }
          },
          "metadata": {},
          "execution_count": 9
        }
      ],
      "source": [
        "shutil.copytree('/content/Dataset', '/content/Dataset_TIFF' , ignore=shutil.ignore_patterns('*.jpg', '*.db'))"
      ]
    },
    {
      "cell_type": "markdown",
      "metadata": {
        "id": "Ppv6r6RGUlGE"
      },
      "source": [
        "#**Combining Multiple Images into single images**\n",
        "\n",
        "**Combing/stacking all the Control and pateints Images with different proteins of different Control and patients into single Image using NP Concatenate process.**"
      ]
    },
    {
      "cell_type": "code",
      "execution_count": 10,
      "metadata": {
        "id": "4NKhTFhH8ueS"
      },
      "outputs": [],
      "source": [
        "def channel_merger(img_list): # img_list need to be list of images of all protein expression images of a subject \n",
        "    \n",
        "    multi_channel_img = np.zeros((*img_list[0].shape,len(img_list)), np.uint8)\n",
        "    \n",
        "    for i, img in enumerate(img_list):\n",
        "        multi_channel_img[:,:,i]= img\n",
        "        \n",
        "    return multi_channel_img"
      ]
    },
    {
      "cell_type": "markdown",
      "metadata": {
        "id": "PRL1Ow9TdrlN"
      },
      "source": [
        "**For Control**"
      ]
    },
    {
      "cell_type": "code",
      "execution_count": 11,
      "metadata": {
        "id": "IzrGv_IydrLL"
      },
      "outputs": [],
      "source": [
        "from glob import glob\n",
        "import numpy as np\n",
        "from tifffile import imread,imwrite\n",
        "newpath = r'/content/TIFF_Images_Concat/Controls/' \n",
        "if not os.path.exists(newpath):\n",
        "    os.makedirs(newpath)\n",
        "for i in range(1,5):\n",
        "  X = sorted(glob('/content/Dataset_TIFF/controls/C*'+str(i)+'/*.tiff'))\n",
        "  X = list(map(imread,X))\n",
        "  multi_channel_img= channel_merger(X)\n",
        "  #multi_channel_img = np.transpose(multi_channel_img)\n",
        "  #multi_stack_image = Image.fromarray(multi_channel_img)\n",
        "  np.save(str(newpath) + 'C0'+str(i)+'_combined.npy' ,multi_channel_img)"
      ]
    },
    {
      "cell_type": "markdown",
      "metadata": {
        "id": "0vWt_A_UdtpF"
      },
      "source": [
        "**For Patient**"
      ]
    },
    {
      "cell_type": "code",
      "execution_count": 12,
      "metadata": {
        "id": "E_LyRadO7QM0"
      },
      "outputs": [],
      "source": [
        "from glob import glob\n",
        "import numpy as np\n",
        "from tifffile import imread,imwrite\n",
        "newpath = r'/content/TIFF_Images_Concat/Patients/' \n",
        "if not os.path.exists(newpath):\n",
        "    os.makedirs(newpath)\n",
        "for i in range(1,11):\n",
        "  X = sorted(glob('/content/Dataset_TIFF/patients/P*'+str(i)+'/*.tiff'))\n",
        "  X = list(map(imread,X))\n",
        "  multi_channel_img= channel_merger(X)\n",
        "  #multi_channel_img = np.transpose(multi_channel_img)\n",
        "  np.save(str(newpath) + 'P0'+str(i)+'_combined.npy' ,multi_channel_img)\n"
      ]
    },
    {
      "cell_type": "markdown",
      "metadata": {
        "id": "rUljvJLckq1v"
      },
      "source": [
        "**Spliting the numpy array into multiple array using patchify function**\n",
        "\n",
        "**For control:**"
      ]
    },
    {
      "cell_type": "code",
      "execution_count": 13,
      "metadata": {
        "id": "Dq12NIHFjldn"
      },
      "outputs": [],
      "source": [
        "import glob\n",
        "#Creating a new path to store all splitting jpg images\n",
        "newpath = r'/content/Concat_Split_Images/Controls' \n",
        "if not os.path.exists(newpath):\n",
        "    os.makedirs(newpath)\n",
        "my_path = \"/content/TIFF_Images_Concat/Controls\"\n",
        "files = glob.glob(my_path + '/**/*.npy', recursive=True)\n",
        "for file in files:\n",
        "  img = np.load(file)\n",
        "  patches_img = patchify(img, (512,512,10), step=256)\n",
        "  for i in range(patches_img.shape[0]):\n",
        "      for j in range(patches_img.shape[1]):\n",
        "          single_patch_img = patches_img[i, j, 0, :, :, :]\n",
        "          np.save('/content/Concat_Split_Images/Controls/' + \"C0\"+str(files.index(file)+1)+'_image_' + '_'+ str(i)+str(j)+'.npy', single_patch_img)            "
      ]
    },
    {
      "cell_type": "markdown",
      "metadata": {
        "id": "-QZSkRypkuw-"
      },
      "source": [
        "**For Patients**"
      ]
    },
    {
      "cell_type": "code",
      "execution_count": 14,
      "metadata": {
        "id": "ijNHlG7ukAdc"
      },
      "outputs": [],
      "source": [
        "#Creating a new path to store all spliting jpg images\n",
        "import glob\n",
        "newpath = r'/content/Concat_Split_Images/Patients' \n",
        "if not os.path.exists(newpath):\n",
        "    os.makedirs(newpath)\n",
        "my_path = \"/content/TIFF_Images_Concat/Patients\"\n",
        "files = glob.glob(my_path + '/**/*.npy', recursive=True)\n",
        "for file in files:\n",
        "  img = np.load(file)\n",
        "  patches_img = patchify(img, (512,512,10), step=256)\n",
        "  for i in range(patches_img.shape[0]):\n",
        "      for j in range(patches_img.shape[1]):\n",
        "          single_patch_img = patches_img[i, j, 0, :, :, :]\n",
        "          np.save('/content/Concat_Split_Images/Patients/' + \"P0\"+str(files.index(file)+1)+'_image_' + '_'+ str(i)+str(j)+'.npy', single_patch_img)"
      ]
    },
    {
      "cell_type": "markdown",
      "source": [
        "**Storing the numpy files in dataframe**"
      ],
      "metadata": {
        "id": "Gn0qKVeqCXf2"
      }
    },
    {
      "cell_type": "code",
      "execution_count": null,
      "metadata": {
        "id": "LIHuR4eYlS-x"
      },
      "outputs": [],
      "source": [
        "import os\n",
        "import pandas as pd\n",
        "\n",
        "os.chdir(r'/content/Concat_Split_Images')\n",
        "\n",
        "folders = ['Controls', 'Patients']\n",
        "\n",
        "files = []\n",
        "\n",
        "for folder in folders:\n",
        "    for file in os.listdir(folder):\n",
        "        files.append([str('/content/Concat_Split_Images/')+folder+str('/')+file, folder])\n",
        "\n",
        "pd.DataFrame(files, columns=['files', 'target']).to_csv('files_and_targets_1.csv')"
      ]
    },
    {
      "cell_type": "markdown",
      "metadata": {
        "id": "gftWfzFJRQw0"
      },
      "source": [
        "**Loading the CSV file:**"
      ]
    },
    {
      "cell_type": "code",
      "execution_count": null,
      "metadata": {
        "id": "qzbdyhuKmRD_"
      },
      "outputs": [],
      "source": [
        "df=pd.read_csv('/content/Concat_Split_Images/files_and_targets_1.csv')"
      ]
    },
    {
      "cell_type": "code",
      "execution_count": null,
      "metadata": {
        "colab": {
          "base_uri": "https://localhost:8080/",
          "height": 206
        },
        "id": "PyHjWBCsJI7h",
        "outputId": "e06e3e08-6111-477c-bb43-043486d3a0f4"
      },
      "outputs": [
        {
          "output_type": "execute_result",
          "data": {
            "text/plain": [
              "   Unnamed: 0                                              files    target\n",
              "0           0  /content/Concat_Split_Images/Controls/C01_imag...  Controls\n",
              "1           1  /content/Concat_Split_Images/Controls/C04_imag...  Controls\n",
              "2           2  /content/Concat_Split_Images/Controls/C04_imag...  Controls\n",
              "3           3  /content/Concat_Split_Images/Controls/C02_imag...  Controls\n",
              "4           4  /content/Concat_Split_Images/Controls/C04_imag...  Controls"
            ],
            "text/html": [
              "\n",
              "  <div id=\"df-9b3a6cc3-9a57-4d67-9522-c378475f9755\">\n",
              "    <div class=\"colab-df-container\">\n",
              "      <div>\n",
              "<style scoped>\n",
              "    .dataframe tbody tr th:only-of-type {\n",
              "        vertical-align: middle;\n",
              "    }\n",
              "\n",
              "    .dataframe tbody tr th {\n",
              "        vertical-align: top;\n",
              "    }\n",
              "\n",
              "    .dataframe thead th {\n",
              "        text-align: right;\n",
              "    }\n",
              "</style>\n",
              "<table border=\"1\" class=\"dataframe\">\n",
              "  <thead>\n",
              "    <tr style=\"text-align: right;\">\n",
              "      <th></th>\n",
              "      <th>Unnamed: 0</th>\n",
              "      <th>files</th>\n",
              "      <th>target</th>\n",
              "    </tr>\n",
              "  </thead>\n",
              "  <tbody>\n",
              "    <tr>\n",
              "      <th>0</th>\n",
              "      <td>0</td>\n",
              "      <td>/content/Concat_Split_Images/Controls/C01_imag...</td>\n",
              "      <td>Controls</td>\n",
              "    </tr>\n",
              "    <tr>\n",
              "      <th>1</th>\n",
              "      <td>1</td>\n",
              "      <td>/content/Concat_Split_Images/Controls/C04_imag...</td>\n",
              "      <td>Controls</td>\n",
              "    </tr>\n",
              "    <tr>\n",
              "      <th>2</th>\n",
              "      <td>2</td>\n",
              "      <td>/content/Concat_Split_Images/Controls/C04_imag...</td>\n",
              "      <td>Controls</td>\n",
              "    </tr>\n",
              "    <tr>\n",
              "      <th>3</th>\n",
              "      <td>3</td>\n",
              "      <td>/content/Concat_Split_Images/Controls/C02_imag...</td>\n",
              "      <td>Controls</td>\n",
              "    </tr>\n",
              "    <tr>\n",
              "      <th>4</th>\n",
              "      <td>4</td>\n",
              "      <td>/content/Concat_Split_Images/Controls/C04_imag...</td>\n",
              "      <td>Controls</td>\n",
              "    </tr>\n",
              "  </tbody>\n",
              "</table>\n",
              "</div>\n",
              "      <button class=\"colab-df-convert\" onclick=\"convertToInteractive('df-9b3a6cc3-9a57-4d67-9522-c378475f9755')\"\n",
              "              title=\"Convert this dataframe to an interactive table.\"\n",
              "              style=\"display:none;\">\n",
              "        \n",
              "  <svg xmlns=\"http://www.w3.org/2000/svg\" height=\"24px\"viewBox=\"0 0 24 24\"\n",
              "       width=\"24px\">\n",
              "    <path d=\"M0 0h24v24H0V0z\" fill=\"none\"/>\n",
              "    <path d=\"M18.56 5.44l.94 2.06.94-2.06 2.06-.94-2.06-.94-.94-2.06-.94 2.06-2.06.94zm-11 1L8.5 8.5l.94-2.06 2.06-.94-2.06-.94L8.5 2.5l-.94 2.06-2.06.94zm10 10l.94 2.06.94-2.06 2.06-.94-2.06-.94-.94-2.06-.94 2.06-2.06.94z\"/><path d=\"M17.41 7.96l-1.37-1.37c-.4-.4-.92-.59-1.43-.59-.52 0-1.04.2-1.43.59L10.3 9.45l-7.72 7.72c-.78.78-.78 2.05 0 2.83L4 21.41c.39.39.9.59 1.41.59.51 0 1.02-.2 1.41-.59l7.78-7.78 2.81-2.81c.8-.78.8-2.07 0-2.86zM5.41 20L4 18.59l7.72-7.72 1.47 1.35L5.41 20z\"/>\n",
              "  </svg>\n",
              "      </button>\n",
              "      \n",
              "  <style>\n",
              "    .colab-df-container {\n",
              "      display:flex;\n",
              "      flex-wrap:wrap;\n",
              "      gap: 12px;\n",
              "    }\n",
              "\n",
              "    .colab-df-convert {\n",
              "      background-color: #E8F0FE;\n",
              "      border: none;\n",
              "      border-radius: 50%;\n",
              "      cursor: pointer;\n",
              "      display: none;\n",
              "      fill: #1967D2;\n",
              "      height: 32px;\n",
              "      padding: 0 0 0 0;\n",
              "      width: 32px;\n",
              "    }\n",
              "\n",
              "    .colab-df-convert:hover {\n",
              "      background-color: #E2EBFA;\n",
              "      box-shadow: 0px 1px 2px rgba(60, 64, 67, 0.3), 0px 1px 3px 1px rgba(60, 64, 67, 0.15);\n",
              "      fill: #174EA6;\n",
              "    }\n",
              "\n",
              "    [theme=dark] .colab-df-convert {\n",
              "      background-color: #3B4455;\n",
              "      fill: #D2E3FC;\n",
              "    }\n",
              "\n",
              "    [theme=dark] .colab-df-convert:hover {\n",
              "      background-color: #434B5C;\n",
              "      box-shadow: 0px 1px 3px 1px rgba(0, 0, 0, 0.15);\n",
              "      filter: drop-shadow(0px 1px 2px rgba(0, 0, 0, 0.3));\n",
              "      fill: #FFFFFF;\n",
              "    }\n",
              "  </style>\n",
              "\n",
              "      <script>\n",
              "        const buttonEl =\n",
              "          document.querySelector('#df-9b3a6cc3-9a57-4d67-9522-c378475f9755 button.colab-df-convert');\n",
              "        buttonEl.style.display =\n",
              "          google.colab.kernel.accessAllowed ? 'block' : 'none';\n",
              "\n",
              "        async function convertToInteractive(key) {\n",
              "          const element = document.querySelector('#df-9b3a6cc3-9a57-4d67-9522-c378475f9755');\n",
              "          const dataTable =\n",
              "            await google.colab.kernel.invokeFunction('convertToInteractive',\n",
              "                                                     [key], {});\n",
              "          if (!dataTable) return;\n",
              "\n",
              "          const docLinkHtml = 'Like what you see? Visit the ' +\n",
              "            '<a target=\"_blank\" href=https://colab.research.google.com/notebooks/data_table.ipynb>data table notebook</a>'\n",
              "            + ' to learn more about interactive tables.';\n",
              "          element.innerHTML = '';\n",
              "          dataTable['output_type'] = 'display_data';\n",
              "          await google.colab.output.renderOutput(dataTable, element);\n",
              "          const docLink = document.createElement('div');\n",
              "          docLink.innerHTML = docLinkHtml;\n",
              "          element.appendChild(docLink);\n",
              "        }\n",
              "      </script>\n",
              "    </div>\n",
              "  </div>\n",
              "  "
            ]
          },
          "metadata": {},
          "execution_count": 17
        }
      ],
      "source": [
        "df.head()"
      ]
    },
    {
      "cell_type": "markdown",
      "metadata": {
        "id": "u1f2rVotIsbP"
      },
      "source": [
        "**Label encoding the traget variable:**"
      ]
    },
    {
      "cell_type": "code",
      "execution_count": null,
      "metadata": {
        "colab": {
          "base_uri": "https://localhost:8080/",
          "height": 424
        },
        "id": "y8VFYcixmeJs",
        "outputId": "54499e5c-50e4-4258-ee08-518d31193112"
      },
      "outputs": [
        {
          "output_type": "execute_result",
          "data": {
            "text/plain": [
              "     Unnamed: 0                                              files    target  \\\n",
              "0             0  /content/Concat_Split_Images/Controls/C01_imag...  Controls   \n",
              "1             1  /content/Concat_Split_Images/Controls/C01_imag...  Controls   \n",
              "2             2  /content/Concat_Split_Images/Controls/C01_imag...  Controls   \n",
              "3             3  /content/Concat_Split_Images/Controls/C01_imag...  Controls   \n",
              "4             4  /content/Concat_Split_Images/Controls/C01_imag...  Controls   \n",
              "..          ...                                                ...       ...   \n",
              "944         944  /content/Concat_Split_Images/Patients/P01_imag...  Patients   \n",
              "945         945  /content/Concat_Split_Images/Patients/P07_imag...  Patients   \n",
              "946         946  /content/Concat_Split_Images/Patients/P07_imag...  Patients   \n",
              "947         947  /content/Concat_Split_Images/Patients/P07_imag...  Patients   \n",
              "948         948  /content/Concat_Split_Images/Patients/P02_imag...  Patients   \n",
              "\n",
              "     category  \n",
              "0           0  \n",
              "1           0  \n",
              "2           0  \n",
              "3           0  \n",
              "4           0  \n",
              "..        ...  \n",
              "944         1  \n",
              "945         1  \n",
              "946         1  \n",
              "947         1  \n",
              "948         1  \n",
              "\n",
              "[949 rows x 4 columns]"
            ],
            "text/html": [
              "\n",
              "  <div id=\"df-a3f6c387-e0ec-4961-bd53-9a71906c8175\">\n",
              "    <div class=\"colab-df-container\">\n",
              "      <div>\n",
              "<style scoped>\n",
              "    .dataframe tbody tr th:only-of-type {\n",
              "        vertical-align: middle;\n",
              "    }\n",
              "\n",
              "    .dataframe tbody tr th {\n",
              "        vertical-align: top;\n",
              "    }\n",
              "\n",
              "    .dataframe thead th {\n",
              "        text-align: right;\n",
              "    }\n",
              "</style>\n",
              "<table border=\"1\" class=\"dataframe\">\n",
              "  <thead>\n",
              "    <tr style=\"text-align: right;\">\n",
              "      <th></th>\n",
              "      <th>Unnamed: 0</th>\n",
              "      <th>files</th>\n",
              "      <th>target</th>\n",
              "      <th>category</th>\n",
              "    </tr>\n",
              "  </thead>\n",
              "  <tbody>\n",
              "    <tr>\n",
              "      <th>0</th>\n",
              "      <td>0</td>\n",
              "      <td>/content/Concat_Split_Images/Controls/C01_imag...</td>\n",
              "      <td>Controls</td>\n",
              "      <td>0</td>\n",
              "    </tr>\n",
              "    <tr>\n",
              "      <th>1</th>\n",
              "      <td>1</td>\n",
              "      <td>/content/Concat_Split_Images/Controls/C01_imag...</td>\n",
              "      <td>Controls</td>\n",
              "      <td>0</td>\n",
              "    </tr>\n",
              "    <tr>\n",
              "      <th>2</th>\n",
              "      <td>2</td>\n",
              "      <td>/content/Concat_Split_Images/Controls/C01_imag...</td>\n",
              "      <td>Controls</td>\n",
              "      <td>0</td>\n",
              "    </tr>\n",
              "    <tr>\n",
              "      <th>3</th>\n",
              "      <td>3</td>\n",
              "      <td>/content/Concat_Split_Images/Controls/C01_imag...</td>\n",
              "      <td>Controls</td>\n",
              "      <td>0</td>\n",
              "    </tr>\n",
              "    <tr>\n",
              "      <th>4</th>\n",
              "      <td>4</td>\n",
              "      <td>/content/Concat_Split_Images/Controls/C01_imag...</td>\n",
              "      <td>Controls</td>\n",
              "      <td>0</td>\n",
              "    </tr>\n",
              "    <tr>\n",
              "      <th>...</th>\n",
              "      <td>...</td>\n",
              "      <td>...</td>\n",
              "      <td>...</td>\n",
              "      <td>...</td>\n",
              "    </tr>\n",
              "    <tr>\n",
              "      <th>944</th>\n",
              "      <td>944</td>\n",
              "      <td>/content/Concat_Split_Images/Patients/P01_imag...</td>\n",
              "      <td>Patients</td>\n",
              "      <td>1</td>\n",
              "    </tr>\n",
              "    <tr>\n",
              "      <th>945</th>\n",
              "      <td>945</td>\n",
              "      <td>/content/Concat_Split_Images/Patients/P07_imag...</td>\n",
              "      <td>Patients</td>\n",
              "      <td>1</td>\n",
              "    </tr>\n",
              "    <tr>\n",
              "      <th>946</th>\n",
              "      <td>946</td>\n",
              "      <td>/content/Concat_Split_Images/Patients/P07_imag...</td>\n",
              "      <td>Patients</td>\n",
              "      <td>1</td>\n",
              "    </tr>\n",
              "    <tr>\n",
              "      <th>947</th>\n",
              "      <td>947</td>\n",
              "      <td>/content/Concat_Split_Images/Patients/P07_imag...</td>\n",
              "      <td>Patients</td>\n",
              "      <td>1</td>\n",
              "    </tr>\n",
              "    <tr>\n",
              "      <th>948</th>\n",
              "      <td>948</td>\n",
              "      <td>/content/Concat_Split_Images/Patients/P02_imag...</td>\n",
              "      <td>Patients</td>\n",
              "      <td>1</td>\n",
              "    </tr>\n",
              "  </tbody>\n",
              "</table>\n",
              "<p>949 rows × 4 columns</p>\n",
              "</div>\n",
              "      <button class=\"colab-df-convert\" onclick=\"convertToInteractive('df-a3f6c387-e0ec-4961-bd53-9a71906c8175')\"\n",
              "              title=\"Convert this dataframe to an interactive table.\"\n",
              "              style=\"display:none;\">\n",
              "        \n",
              "  <svg xmlns=\"http://www.w3.org/2000/svg\" height=\"24px\"viewBox=\"0 0 24 24\"\n",
              "       width=\"24px\">\n",
              "    <path d=\"M0 0h24v24H0V0z\" fill=\"none\"/>\n",
              "    <path d=\"M18.56 5.44l.94 2.06.94-2.06 2.06-.94-2.06-.94-.94-2.06-.94 2.06-2.06.94zm-11 1L8.5 8.5l.94-2.06 2.06-.94-2.06-.94L8.5 2.5l-.94 2.06-2.06.94zm10 10l.94 2.06.94-2.06 2.06-.94-2.06-.94-.94-2.06-.94 2.06-2.06.94z\"/><path d=\"M17.41 7.96l-1.37-1.37c-.4-.4-.92-.59-1.43-.59-.52 0-1.04.2-1.43.59L10.3 9.45l-7.72 7.72c-.78.78-.78 2.05 0 2.83L4 21.41c.39.39.9.59 1.41.59.51 0 1.02-.2 1.41-.59l7.78-7.78 2.81-2.81c.8-.78.8-2.07 0-2.86zM5.41 20L4 18.59l7.72-7.72 1.47 1.35L5.41 20z\"/>\n",
              "  </svg>\n",
              "      </button>\n",
              "      \n",
              "  <style>\n",
              "    .colab-df-container {\n",
              "      display:flex;\n",
              "      flex-wrap:wrap;\n",
              "      gap: 12px;\n",
              "    }\n",
              "\n",
              "    .colab-df-convert {\n",
              "      background-color: #E8F0FE;\n",
              "      border: none;\n",
              "      border-radius: 50%;\n",
              "      cursor: pointer;\n",
              "      display: none;\n",
              "      fill: #1967D2;\n",
              "      height: 32px;\n",
              "      padding: 0 0 0 0;\n",
              "      width: 32px;\n",
              "    }\n",
              "\n",
              "    .colab-df-convert:hover {\n",
              "      background-color: #E2EBFA;\n",
              "      box-shadow: 0px 1px 2px rgba(60, 64, 67, 0.3), 0px 1px 3px 1px rgba(60, 64, 67, 0.15);\n",
              "      fill: #174EA6;\n",
              "    }\n",
              "\n",
              "    [theme=dark] .colab-df-convert {\n",
              "      background-color: #3B4455;\n",
              "      fill: #D2E3FC;\n",
              "    }\n",
              "\n",
              "    [theme=dark] .colab-df-convert:hover {\n",
              "      background-color: #434B5C;\n",
              "      box-shadow: 0px 1px 3px 1px rgba(0, 0, 0, 0.15);\n",
              "      filter: drop-shadow(0px 1px 2px rgba(0, 0, 0, 0.3));\n",
              "      fill: #FFFFFF;\n",
              "    }\n",
              "  </style>\n",
              "\n",
              "      <script>\n",
              "        const buttonEl =\n",
              "          document.querySelector('#df-a3f6c387-e0ec-4961-bd53-9a71906c8175 button.colab-df-convert');\n",
              "        buttonEl.style.display =\n",
              "          google.colab.kernel.accessAllowed ? 'block' : 'none';\n",
              "\n",
              "        async function convertToInteractive(key) {\n",
              "          const element = document.querySelector('#df-a3f6c387-e0ec-4961-bd53-9a71906c8175');\n",
              "          const dataTable =\n",
              "            await google.colab.kernel.invokeFunction('convertToInteractive',\n",
              "                                                     [key], {});\n",
              "          if (!dataTable) return;\n",
              "\n",
              "          const docLinkHtml = 'Like what you see? Visit the ' +\n",
              "            '<a target=\"_blank\" href=https://colab.research.google.com/notebooks/data_table.ipynb>data table notebook</a>'\n",
              "            + ' to learn more about interactive tables.';\n",
              "          element.innerHTML = '';\n",
              "          dataTable['output_type'] = 'display_data';\n",
              "          await google.colab.output.renderOutput(dataTable, element);\n",
              "          const docLink = document.createElement('div');\n",
              "          docLink.innerHTML = docLinkHtml;\n",
              "          element.appendChild(docLink);\n",
              "        }\n",
              "      </script>\n",
              "    </div>\n",
              "  </div>\n",
              "  "
            ]
          },
          "metadata": {},
          "execution_count": 18
        }
      ],
      "source": [
        "from sklearn.preprocessing import LabelEncoder\n",
        "labelencoder = LabelEncoder()\n",
        "#num_classes = 2\n",
        "df['category'] = labelencoder.fit_transform(df['target'])\n",
        "df"
      ]
    },
    {
      "cell_type": "markdown",
      "metadata": {
        "id": "4SlAu0aIC00h"
      },
      "source": [
        "**Creating a column image and Stroing the files names as numpy array:**"
      ]
    },
    {
      "cell_type": "code",
      "execution_count": null,
      "metadata": {
        "id": "8lt96UaRC0N3"
      },
      "outputs": [],
      "source": [
        "df['image']=df['files'].map(lambda x: np.load(x))"
      ]
    },
    {
      "cell_type": "markdown",
      "metadata": {
        "id": "zW0YWP2GEZmH"
      },
      "source": [
        "##**Feature and Target Split**"
      ]
    },
    {
      "cell_type": "code",
      "execution_count": null,
      "metadata": {
        "id": "b4kHXUbqEelP"
      },
      "outputs": [],
      "source": [
        "features=df['image']\n",
        "target=df['category']"
      ]
    },
    {
      "cell_type": "markdown",
      "metadata": {
        "id": "m7mPS1zaFFTP"
      },
      "source": [
        "**Training, Validation and Test Split**\n",
        "\n",
        "We first split the dataset to 80% training data and 20% testing data. We then take the 80% training data and split it into 87.5% training data and 12.5% validation data, to form our 70% Training - 10% Validation - 20% Testing. Note that the split will be applied across each class individually to ensure there is enough samples from each class in each split for accurate modeling, meaning each class will be split 70:10:20 as well. This is done by setting 'stratify' in train_test_split function to our target.\n",
        "\n",
        "Training: 80% 87.5% = 70% Validation: 80% 12.5% = 10% Testing: 20%"
      ]
    },
    {
      "cell_type": "code",
      "execution_count": null,
      "metadata": {
        "id": "BffA2u2wFPed"
      },
      "outputs": [],
      "source": [
        "X_train,X_test,y_train,y_test=train_test_split(features,target,test_size=0.20,stratify=target)"
      ]
    },
    {
      "cell_type": "code",
      "execution_count": null,
      "metadata": {
        "id": "tj6qJfjeFRJX"
      },
      "outputs": [],
      "source": [
        "X_train, X_val, y_train, y_val = train_test_split(X_train, y_train, test_size=0.20, stratify=y_train)"
      ]
    },
    {
      "cell_type": "markdown",
      "metadata": {
        "id": "uHwRtn1iFukr"
      },
      "source": [
        "**Target One-Hot Encoding**\n",
        "\n",
        "Creating one-hot vectors of size (1,2) for each label\n",
        "\n"
      ]
    },
    {
      "cell_type": "code",
      "execution_count": null,
      "metadata": {
        "id": "w71wnlWOFuLZ"
      },
      "outputs": [],
      "source": [
        "from keras.utils.np_utils import to_categorical\n",
        "num_classes = 2\n",
        "y_train = to_categorical(y_train, num_classes = 2)\n",
        "y_test = to_categorical(y_test, num_classes = 2)\n",
        "y_val = to_categorical(y_val, num_classes = 2)"
      ]
    },
    {
      "cell_type": "markdown",
      "metadata": {
        "id": "M7x4-9lbQYUh"
      },
      "source": [
        "**Converting numarry into tensor**"
      ]
    },
    {
      "cell_type": "code",
      "execution_count": null,
      "metadata": {
        "id": "BBDH4uCRQWIA"
      },
      "outputs": [],
      "source": [
        "X_train_normal = np.asarray(X_train.tolist())\n",
        "X_test_normal = np.asarray(X_test.tolist())\n",
        "X_val_normal=np.asarray(X_val.tolist())"
      ]
    },
    {
      "cell_type": "code",
      "execution_count": null,
      "metadata": {
        "id": "NwS2rQrYSsTD"
      },
      "outputs": [],
      "source": [
        "input_shape=(512,512,10)\n",
        "X_train_normal=X_train_normal.reshape(X_train_normal.shape[0],*(input_shape))\n",
        "X_test_normal=X_test_normal.reshape(X_test_normal.shape[0],*(input_shape))\n",
        "X_val_normal=X_val_normal.reshape(X_val_normal.shape[0],*(input_shape))"
      ]
    },
    {
      "cell_type": "code",
      "execution_count": null,
      "metadata": {
        "colab": {
          "base_uri": "https://localhost:8080/"
        },
        "id": "kRZpt4WXSwNw",
        "outputId": "c23d2f64-61c2-404b-df09-77537540ce4c"
      },
      "outputs": [
        {
          "output_type": "execute_result",
          "data": {
            "text/plain": [
              "(512, 512, 10)"
            ]
          },
          "metadata": {},
          "execution_count": 26
        }
      ],
      "source": [
        "X_train_normal[0].shape"
      ]
    },
    {
      "cell_type": "markdown",
      "metadata": {
        "id": "r5MFz-3IWAgh"
      },
      "source": [
        "**Converting the numpy array into Tiff Images.**"
      ]
    },
    {
      "cell_type": "markdown",
      "metadata": {
        "id": "-yWvNd5DXu1y"
      },
      "source": [
        "**For Controls**"
      ]
    },
    {
      "cell_type": "code",
      "execution_count": null,
      "metadata": {
        "id": "X9y_z4XsV_-E"
      },
      "outputs": [],
      "source": [
        "newpath = r'/content/Concat_Split_Images_Convert_TIFF/Controls' \n",
        "if not os.path.exists(newpath):\n",
        "    os.makedirs(newpath)\n",
        "my_path = \"/content/Concat_Split_Images/Controls/\"\n",
        "files = glob.glob(my_path + '/**/*.npy', recursive=True)\n",
        "for file in files:\n",
        "  img=np.transpose(np.load(file))\n",
        "  imwrite('/content/Concat_Split_Images_Convert_TIFF/Controls/' + \"C0\"+str(file[38:57])+'_image_'+'.tiff',img)"
      ]
    },
    {
      "cell_type": "markdown",
      "metadata": {
        "id": "irtX73A1XxAZ"
      },
      "source": [
        "**For Patients**"
      ]
    },
    {
      "cell_type": "code",
      "execution_count": null,
      "metadata": {
        "id": "PmG1k5YUXrx1"
      },
      "outputs": [],
      "source": [
        "newpath = r'/content/Concat_Split_Images_Convert_TIFF/Patients' \n",
        "if not os.path.exists(newpath):\n",
        "    os.makedirs(newpath)\n",
        "files = glob.glob(my_path + '/**/*.npy', recursive=True)\n",
        "my_path = \"/content/Concat_Split_Images/Patients/\"\n",
        "for file in files:\n",
        "  img=np.transpose(np.load(file))\n",
        "  #print(str(file[38:57]))\n",
        "  imwrite('/content/Concat_Split_Images_Convert_TIFF/Patients/' + \"P0\"+str(file[38:57])+'_image_'+'.tiff',img)"
      ]
    },
    {
      "cell_type": "markdown",
      "metadata": {
        "id": "-RWamI6s8OQj"
      },
      "source": [
        "#**Building the model**\n",
        "**Transfer Learning Using VGG16**"
      ]
    },
    {
      "cell_type": "code",
      "execution_count": null,
      "metadata": {
        "id": "WXN1GIFH67hU"
      },
      "outputs": [],
      "source": [
        "from tensorflow.keras.applications.vgg16 import VGG16\n",
        "import numpy as np\n",
        "from tensorflow.keras.models import Model\n",
        "from tensorflow.keras.layers import Dropout\n",
        "from keras.backend import dropout\n",
        "from keras.models import Sequential\n",
        "from keras.layers import Dense, Conv2D, MaxPool2D , Flatten"
      ]
    },
    {
      "cell_type": "code",
      "execution_count": null,
      "metadata": {
        "colab": {
          "base_uri": "https://localhost:8080/"
        },
        "id": "mAwVdYYX6-9z",
        "outputId": "99bcf11a-bb04-458c-dd74-0a511d8ae365"
      },
      "outputs": [
        {
          "output_type": "stream",
          "name": "stdout",
          "text": [
            "Downloading data from https://storage.googleapis.com/tensorflow/keras-applications/vgg16/vgg16_weights_tf_dim_ordering_tf_kernels_notop.h5\n",
            "58892288/58889256 [==============================] - 0s 0us/step\n",
            "58900480/58889256 [==============================] - 0s 0us/step\n",
            "Model: \"vgg16\"\n",
            "_________________________________________________________________\n",
            " Layer (type)                Output Shape              Param #   \n",
            "=================================================================\n",
            " input_1 (InputLayer)        [(None, None, None, 3)]   0         \n",
            "                                                                 \n",
            " block1_conv1 (Conv2D)       (None, None, None, 64)    1792      \n",
            "                                                                 \n",
            " block1_conv2 (Conv2D)       (None, None, None, 64)    36928     \n",
            "                                                                 \n",
            " block1_pool (MaxPooling2D)  (None, None, None, 64)    0         \n",
            "                                                                 \n",
            " block2_conv1 (Conv2D)       (None, None, None, 128)   73856     \n",
            "                                                                 \n",
            " block2_conv2 (Conv2D)       (None, None, None, 128)   147584    \n",
            "                                                                 \n",
            " block2_pool (MaxPooling2D)  (None, None, None, 128)   0         \n",
            "                                                                 \n",
            " block3_conv1 (Conv2D)       (None, None, None, 256)   295168    \n",
            "                                                                 \n",
            " block3_conv2 (Conv2D)       (None, None, None, 256)   590080    \n",
            "                                                                 \n",
            " block3_conv3 (Conv2D)       (None, None, None, 256)   590080    \n",
            "                                                                 \n",
            " block3_pool (MaxPooling2D)  (None, None, None, 256)   0         \n",
            "                                                                 \n",
            " block4_conv1 (Conv2D)       (None, None, None, 512)   1180160   \n",
            "                                                                 \n",
            " block4_conv2 (Conv2D)       (None, None, None, 512)   2359808   \n",
            "                                                                 \n",
            " block4_conv3 (Conv2D)       (None, None, None, 512)   2359808   \n",
            "                                                                 \n",
            " block4_pool (MaxPooling2D)  (None, None, None, 512)   0         \n",
            "                                                                 \n",
            " block5_conv1 (Conv2D)       (None, None, None, 512)   2359808   \n",
            "                                                                 \n",
            " block5_conv2 (Conv2D)       (None, None, None, 512)   2359808   \n",
            "                                                                 \n",
            " block5_conv3 (Conv2D)       (None, None, None, 512)   2359808   \n",
            "                                                                 \n",
            " block5_pool (MaxPooling2D)  (None, None, None, 512)   0         \n",
            "                                                                 \n",
            "=================================================================\n",
            "Total params: 14,714,688\n",
            "Trainable params: 14,714,688\n",
            "Non-trainable params: 0\n",
            "_________________________________________________________________\n",
            "None\n"
          ]
        }
      ],
      "source": [
        "#Import vgg model  \n",
        "vgg_model = VGG16(include_top=False, weights='imagenet',classes=2)\n",
        "print(vgg_model.summary())"
      ]
    },
    {
      "cell_type": "code",
      "execution_count": null,
      "metadata": {
        "id": "Iv68BkvX7Bcs"
      },
      "outputs": [],
      "source": [
        "#Get the dictionary of config for vgg16\n",
        "vgg_config = vgg_model.get_config()"
      ]
    },
    {
      "cell_type": "code",
      "execution_count": null,
      "metadata": {
        "id": "EFst4JJk7FWk"
      },
      "outputs": [],
      "source": [
        "# Change the input shape to new desired shape\n",
        "h, w, c = 512, 512, 10\n",
        "vgg_config[\"layers\"][0][\"config\"][\"batch_input_shape\"] = (None, h, w, c)"
      ]
    },
    {
      "cell_type": "code",
      "execution_count": null,
      "metadata": {
        "colab": {
          "base_uri": "https://localhost:8080/"
        },
        "id": "6xVrnRhh7HhC",
        "outputId": "16c1608e-b13a-455f-c79b-26cbbc217d95"
      },
      "outputs": [
        {
          "output_type": "stream",
          "name": "stdout",
          "text": [
            "Model: \"vgg16\"\n",
            "_________________________________________________________________\n",
            " Layer (type)                Output Shape              Param #   \n",
            "=================================================================\n",
            " input_1 (InputLayer)        [(None, 512, 512, 10)]    0         \n",
            "                                                                 \n",
            " block1_conv1 (Conv2D)       (None, 512, 512, 64)      5824      \n",
            "                                                                 \n",
            " block1_conv2 (Conv2D)       (None, 512, 512, 64)      36928     \n",
            "                                                                 \n",
            " block1_pool (MaxPooling2D)  (None, 256, 256, 64)      0         \n",
            "                                                                 \n",
            " block2_conv1 (Conv2D)       (None, 256, 256, 128)     73856     \n",
            "                                                                 \n",
            " block2_conv2 (Conv2D)       (None, 256, 256, 128)     147584    \n",
            "                                                                 \n",
            " block2_pool (MaxPooling2D)  (None, 128, 128, 128)     0         \n",
            "                                                                 \n",
            " block3_conv1 (Conv2D)       (None, 128, 128, 256)     295168    \n",
            "                                                                 \n",
            " block3_conv2 (Conv2D)       (None, 128, 128, 256)     590080    \n",
            "                                                                 \n",
            " block3_conv3 (Conv2D)       (None, 128, 128, 256)     590080    \n",
            "                                                                 \n",
            " block3_pool (MaxPooling2D)  (None, 64, 64, 256)       0         \n",
            "                                                                 \n",
            " block4_conv1 (Conv2D)       (None, 64, 64, 512)       1180160   \n",
            "                                                                 \n",
            " block4_conv2 (Conv2D)       (None, 64, 64, 512)       2359808   \n",
            "                                                                 \n",
            " block4_conv3 (Conv2D)       (None, 64, 64, 512)       2359808   \n",
            "                                                                 \n",
            " block4_pool (MaxPooling2D)  (None, 32, 32, 512)       0         \n",
            "                                                                 \n",
            " block5_conv1 (Conv2D)       (None, 32, 32, 512)       2359808   \n",
            "                                                                 \n",
            " block5_conv2 (Conv2D)       (None, 32, 32, 512)       2359808   \n",
            "                                                                 \n",
            " block5_conv3 (Conv2D)       (None, 32, 32, 512)       2359808   \n",
            "                                                                 \n",
            " block5_pool (MaxPooling2D)  (None, 16, 16, 512)       0         \n",
            "                                                                 \n",
            "=================================================================\n",
            "Total params: 14,718,720\n",
            "Trainable params: 14,718,720\n",
            "Non-trainable params: 0\n",
            "_________________________________________________________________\n",
            "None\n"
          ]
        }
      ],
      "source": [
        "#Create new model with the updated configuration\n",
        "vgg_updated = Model.from_config(vgg_config)\n",
        "print(vgg_updated.summary())"
      ]
    },
    {
      "cell_type": "code",
      "execution_count": null,
      "metadata": {
        "id": "Q0VqxQb-7KJp"
      },
      "outputs": [],
      "source": [
        "# Check Weights of first conv layer in the original model...\n",
        "orig_model_conv1_block1_wts = vgg_model.layers[1].get_weights()[0]"
      ]
    },
    {
      "cell_type": "code",
      "execution_count": null,
      "metadata": {
        "colab": {
          "base_uri": "https://localhost:8080/"
        },
        "id": "cgPNs3JM7N6a",
        "outputId": "1ed45f68-fd88-4442-9ac8-4d9bbc805b46"
      },
      "outputs": [
        {
          "output_type": "stream",
          "name": "stdout",
          "text": [
            "[[ 0.02829569  0.03168283  0.0033508 ]\n",
            " [-0.06086812  0.04507653  0.06257006]\n",
            " [ 0.05465942 -0.00948675  0.0658249 ]]\n",
            "[[ 0.08011047  0.0014619   0.00804241]\n",
            " [ 0.08974328 -0.04196398  0.07549677]\n",
            " [ 0.00155719 -0.03806409  0.09417938]]\n",
            "[[ 0.07801598 -0.08924396  0.04402944]\n",
            " [ 0.01371067  0.08697736 -0.02134985]\n",
            " [ 0.01825546  0.03231918  0.04109228]]\n",
            "[[-0.006535    0.05333578  0.00038444]\n",
            " [-0.00677782  0.07979659  0.00941026]\n",
            " [ 0.03664634 -0.03211647 -0.05460119]]\n",
            "[[ 0.00129946  0.00180526  0.03406311]\n",
            " [-0.03177553 -0.01161928 -0.04412477]\n",
            " [-0.09214511  0.04294144  0.01965515]]\n"
          ]
        }
      ],
      "source": [
        "# Check Weights of first conv layer in the new model...\n",
        "new_model_conv1_block1_wts = vgg_updated.layers[1].get_weights()[0]\n",
        "print(new_model_conv1_block1_wts[:,:,0,0])\n",
        "print(new_model_conv1_block1_wts[:,:,1,0])\n",
        "print(new_model_conv1_block1_wts[:,:,2,0])\n",
        "print(new_model_conv1_block1_wts[:,:,3,0])\n",
        "print(new_model_conv1_block1_wts[:,:,4,0])"
      ]
    },
    {
      "cell_type": "code",
      "execution_count": null,
      "metadata": {
        "id": "lCID55PU7Q_-"
      },
      "outputs": [],
      "source": [
        "# Function that calculates average of weights along the channel axis and then\n",
        "#copies it over n number of times. n being the new channels that need to be concatenated with the original channels. \n",
        "def avg_and_copy_wts(weights, num_channels_to_fill):  #num_channels_to_fill are the extra channels for which we need to fill weights\n",
        "  average_weights = np.mean(weights, axis=-2).reshape(weights[:,:,-1:,:].shape)  #Find mean along the channel axis (second to last axis)\n",
        "  wts_copied_to_mult_channels = np.tile(average_weights, (num_channels_to_fill, 1)) #Repeat (copy) the array multiple times\n",
        "  return(wts_copied_to_mult_channels)"
      ]
    },
    {
      "cell_type": "code",
      "execution_count": null,
      "metadata": {
        "id": "fnBv6bg57TX2"
      },
      "outputs": [],
      "source": [
        "#Get the configuration for the updated model and extract layer names. \n",
        " \n",
        "vgg_updated_config = vgg_updated.get_config()\n",
        "vgg_updated_layer_names = [vgg_updated_config['layers'][x]['name'] for x in range(len(vgg_updated_config['layers']))]"
      ]
    },
    {
      "cell_type": "code",
      "execution_count": null,
      "metadata": {
        "id": "TM5iQxyA7WJ2"
      },
      "outputs": [],
      "source": [
        "first_conv_name = vgg_updated_layer_names[1]"
      ]
    },
    {
      "cell_type": "code",
      "execution_count": null,
      "metadata": {
        "id": "ifS6c-Bq7ZKL"
      },
      "outputs": [],
      "source": [
        "#Update weights for all layers. And for the first conv layer, copy the first\n",
        "#three layer weights and fill others with the average of all three. \n",
        "for layer in vgg_model.layers:\n",
        "    if layer.name in vgg_updated_layer_names:\n",
        "     \n",
        "      if layer.get_weights() != []:  #All convolutional layers and layers with weights (no input layer or any pool layers)\n",
        "        target_layer = vgg_updated.get_layer(layer.name)\n",
        "    \n",
        "        if layer.name in first_conv_name:    #For the first convolutionl layer\n",
        "          weights = layer.get_weights()[0]\n",
        "          biases  = layer.get_weights()[1]\n",
        "    \n",
        "          weights_extra_channels = np.concatenate((weights,   #Keep the first 3 channel weights as-is and copy the weights for additional channels.\n",
        "                                                  avg_and_copy_wts(weights, c - 3)),  # - 3 as we already have weights for the 3 existing channels in our model. \n",
        "                                                  axis=-2)\n",
        "                                                  \n",
        "          target_layer.set_weights([weights_extra_channels, biases])  #Now set weights for the first conv. layer\n",
        "          target_layer.trainable = False   #You can make this trainable if you want. \n",
        "    \n",
        "        else:\n",
        "          target_layer.set_weights(layer.get_weights())   #Set weights to all other layers. \n",
        "          target_layer.trainable = False  #You can make this trainable if you want."
      ]
    },
    {
      "cell_type": "code",
      "execution_count": null,
      "metadata": {
        "colab": {
          "base_uri": "https://localhost:8080/"
        },
        "id": "5vsEL9Sq7cM6",
        "outputId": "8ee8513c-b5a9-4d39-a2bc-8f1df3fbc4af"
      },
      "outputs": [
        {
          "output_type": "stream",
          "name": "stdout",
          "text": [
            "[[ 0.42947057  0.373467   -0.06136011]\n",
            " [ 0.27476987  0.03868078 -0.36722335]\n",
            " [-0.05746817 -0.26224968 -0.35009676]]\n",
            "[[ 0.55037946  0.44007453 -0.08138704]\n",
            " [ 0.34573907  0.04063221 -0.4535013 ]\n",
            " [-0.05863491 -0.33066967 -0.4850302 ]]\n",
            "[[ 0.4800154   0.4085474  -0.06514555]\n",
            " [ 0.31047726  0.05020237 -0.40338343]\n",
            " [-0.05087169 -0.2852275  -0.41851634]]\n",
            "[[ 0.48662183  0.40736297 -0.06929757]\n",
            " [ 0.31032872  0.04317178 -0.40803602]\n",
            " [-0.05565825 -0.29271564 -0.4178811 ]]\n",
            "[[ 0.48662183  0.40736297 -0.06929757]\n",
            " [ 0.31032872  0.04317178 -0.40803602]\n",
            " [-0.05565825 -0.29271564 -0.4178811 ]]\n"
          ]
        }
      ],
      "source": [
        "# Check Weights of first conv layer in the new model...\n",
        "#Compare against the original model weights\n",
        "new_model_conv1_block1_wts_updated = vgg_updated.layers[1].get_weights()[0]\n",
        "print(new_model_conv1_block1_wts_updated[:,:,0,0])\n",
        "print(new_model_conv1_block1_wts_updated[:,:,1,0])\n",
        "print(new_model_conv1_block1_wts_updated[:,:,2,0])\n",
        "print(new_model_conv1_block1_wts_updated[:,:,5,0])\n",
        "print(new_model_conv1_block1_wts_updated[:,:,8,0])"
      ]
    },
    {
      "cell_type": "code",
      "execution_count": null,
      "metadata": {
        "id": "HPJg5Ynz8Ncl"
      },
      "outputs": [],
      "source": [
        "#instantiate a base model with pre-trained weights.\n",
        "base_model=vgg_updated"
      ]
    },
    {
      "cell_type": "code",
      "execution_count": null,
      "metadata": {
        "id": "6mYTgLzv8UqE"
      },
      "outputs": [],
      "source": [
        "#freeze the base model\n",
        "base_model.trainable = False"
      ]
    },
    {
      "cell_type": "code",
      "execution_count": null,
      "metadata": {
        "id": "zAPa1Sq7xNu_"
      },
      "outputs": [],
      "source": [
        "#Create new model on top\n",
        "model=Sequential()\n",
        "model.add(base_model)\n",
        "model.add(Dense(512))\n",
        "model.add(Activation('relu'))\n",
        "model.add(Dense(256))\n",
        "model.add(Activation('relu'))\n",
        "model.add(Dropout(0.5))\n",
        "model.add(Flatten())\n",
        "model.add(Dense(128))\n",
        "model.add(Activation('relu'))\n",
        "model.add(Dense(2, activation='softmax'))"
      ]
    },
    {
      "cell_type": "code",
      "execution_count": null,
      "metadata": {
        "colab": {
          "base_uri": "https://localhost:8080/"
        },
        "id": "HDWB6t3n8fz-",
        "outputId": "c1fee3c9-ded4-4a34-a12e-e2d9716db40e"
      },
      "outputs": [
        {
          "output_type": "stream",
          "name": "stdout",
          "text": [
            "Model compilation completed.\n"
          ]
        }
      ],
      "source": [
        "optim=Adam(learning_rate=0.001)\n",
        "model.compile(loss='binary_crossentropy',metrics=['accuracy'],optimizer=optim)\n",
        "print(\"Model compilation completed.\")"
      ]
    },
    {
      "cell_type": "code",
      "execution_count": null,
      "metadata": {
        "id": "bjdChHRk8idV"
      },
      "outputs": [],
      "source": [
        "callbacks = [EarlyStopping(monitor='val_accuracy',patience=30)]"
      ]
    },
    {
      "cell_type": "code",
      "source": [
        "history = model.fit(X_train_normal,y_train,batch_size=2,\n",
        "                                       epochs=100,\n",
        "                                       validation_data=(X_val_normal,y_val),callbacks=callbacks)"
      ],
      "metadata": {
        "colab": {
          "base_uri": "https://localhost:8080/"
        },
        "id": "OJtDLmh0rqJS",
        "outputId": "16197749-8a01-44bd-de91-22289e647e3e"
      },
      "execution_count": null,
      "outputs": [
        {
          "output_type": "stream",
          "name": "stdout",
          "text": [
            "Epoch 1/100\n",
            "304/304 [==============================] - 45s 103ms/step - loss: 0.5361 - accuracy: 0.8880 - val_loss: 0.3552 - val_accuracy: 0.9539\n",
            "Epoch 2/100\n",
            "304/304 [==============================] - 34s 111ms/step - loss: 0.2389 - accuracy: 0.9555 - val_loss: 0.1020 - val_accuracy: 0.9737\n",
            "Epoch 3/100\n",
            "304/304 [==============================] - 34s 111ms/step - loss: 0.1780 - accuracy: 0.9736 - val_loss: 0.1906 - val_accuracy: 0.9539\n",
            "Epoch 4/100\n",
            "304/304 [==============================] - 34s 110ms/step - loss: 0.1362 - accuracy: 0.9802 - val_loss: 1.3006 - val_accuracy: 0.8026\n",
            "Epoch 5/100\n",
            "304/304 [==============================] - 28s 94ms/step - loss: 0.2760 - accuracy: 0.9621 - val_loss: 0.1142 - val_accuracy: 0.9737\n",
            "Epoch 6/100\n",
            "304/304 [==============================] - 34s 111ms/step - loss: 0.0276 - accuracy: 0.9967 - val_loss: 0.2336 - val_accuracy: 0.9737\n",
            "Epoch 7/100\n",
            "304/304 [==============================] - 33s 110ms/step - loss: 0.0920 - accuracy: 0.9753 - val_loss: 0.0998 - val_accuracy: 0.9803\n",
            "Epoch 8/100\n",
            "304/304 [==============================] - 29s 94ms/step - loss: 0.0153 - accuracy: 0.9967 - val_loss: 0.1242 - val_accuracy: 0.9803\n",
            "Epoch 9/100\n",
            "304/304 [==============================] - 34s 111ms/step - loss: 0.0155 - accuracy: 0.9984 - val_loss: 0.0991 - val_accuracy: 0.9868\n",
            "Epoch 10/100\n",
            "304/304 [==============================] - 29s 94ms/step - loss: 0.0768 - accuracy: 0.9934 - val_loss: 0.3074 - val_accuracy: 0.9803\n",
            "Epoch 11/100\n",
            "304/304 [==============================] - 29s 94ms/step - loss: 0.0151 - accuracy: 0.9967 - val_loss: 0.2082 - val_accuracy: 0.9605\n",
            "Epoch 12/100\n",
            "304/304 [==============================] - 34s 112ms/step - loss: 0.3090 - accuracy: 0.9605 - val_loss: 0.4166 - val_accuracy: 0.9342\n",
            "Epoch 13/100\n",
            "304/304 [==============================] - 29s 95ms/step - loss: 0.1525 - accuracy: 0.9753 - val_loss: 0.1604 - val_accuracy: 0.9671\n",
            "Epoch 14/100\n",
            "304/304 [==============================] - 33s 110ms/step - loss: 0.0113 - accuracy: 0.9967 - val_loss: 0.1584 - val_accuracy: 0.9671\n",
            "Epoch 15/100\n",
            "304/304 [==============================] - 28s 93ms/step - loss: 0.0087 - accuracy: 0.9984 - val_loss: 0.2867 - val_accuracy: 0.9737\n",
            "Epoch 16/100\n",
            "304/304 [==============================] - 28s 93ms/step - loss: 0.0116 - accuracy: 0.9984 - val_loss: 0.3373 - val_accuracy: 0.9737\n",
            "Epoch 17/100\n",
            "304/304 [==============================] - 33s 109ms/step - loss: 0.2341 - accuracy: 0.9802 - val_loss: 0.2019 - val_accuracy: 0.9803\n",
            "Epoch 18/100\n",
            "304/304 [==============================] - 28s 92ms/step - loss: 0.0566 - accuracy: 0.9951 - val_loss: 0.1571 - val_accuracy: 0.9803\n",
            "Epoch 19/100\n",
            "304/304 [==============================] - 33s 109ms/step - loss: 0.0093 - accuracy: 0.9984 - val_loss: 0.1806 - val_accuracy: 0.9868\n",
            "Epoch 20/100\n",
            "304/304 [==============================] - 28s 93ms/step - loss: 0.0140 - accuracy: 0.9984 - val_loss: 0.2012 - val_accuracy: 0.9868\n",
            "Epoch 21/100\n",
            "304/304 [==============================] - 34s 111ms/step - loss: 0.0273 - accuracy: 0.9934 - val_loss: 0.2550 - val_accuracy: 0.9803\n",
            "Epoch 22/100\n",
            "304/304 [==============================] - 34s 111ms/step - loss: 0.0238 - accuracy: 0.9951 - val_loss: 0.3566 - val_accuracy: 0.9868\n",
            "Epoch 23/100\n",
            "304/304 [==============================] - 34s 112ms/step - loss: 0.0124 - accuracy: 0.9967 - val_loss: 0.2753 - val_accuracy: 0.9868\n",
            "Epoch 24/100\n",
            "304/304 [==============================] - 33s 109ms/step - loss: 0.0152 - accuracy: 0.9984 - val_loss: 0.3394 - val_accuracy: 0.9868\n",
            "Epoch 25/100\n",
            "304/304 [==============================] - 34s 112ms/step - loss: 0.0116 - accuracy: 0.9984 - val_loss: 0.2837 - val_accuracy: 0.9868\n",
            "Epoch 26/100\n",
            "304/304 [==============================] - 34s 111ms/step - loss: 0.1679 - accuracy: 0.9901 - val_loss: 0.1073 - val_accuracy: 0.9803\n",
            "Epoch 27/100\n",
            "304/304 [==============================] - 34s 111ms/step - loss: 0.0418 - accuracy: 0.9934 - val_loss: 0.2047 - val_accuracy: 0.9803\n",
            "Epoch 28/100\n",
            "304/304 [==============================] - 34s 111ms/step - loss: 0.0137 - accuracy: 0.9984 - val_loss: 0.0453 - val_accuracy: 0.9868\n",
            "Epoch 29/100\n",
            "304/304 [==============================] - 29s 94ms/step - loss: 0.0287 - accuracy: 0.9967 - val_loss: 0.3780 - val_accuracy: 0.9868\n",
            "Epoch 30/100\n",
            "304/304 [==============================] - 28s 93ms/step - loss: 0.0561 - accuracy: 0.9951 - val_loss: 0.1208 - val_accuracy: 0.9868\n",
            "Epoch 31/100\n",
            "304/304 [==============================] - 28s 93ms/step - loss: 0.0134 - accuracy: 0.9984 - val_loss: 0.0606 - val_accuracy: 0.9868\n",
            "Epoch 32/100\n",
            "304/304 [==============================] - 28s 93ms/step - loss: 0.0130 - accuracy: 0.9984 - val_loss: 1.0854 - val_accuracy: 0.9539\n",
            "Epoch 33/100\n",
            "304/304 [==============================] - 28s 93ms/step - loss: 0.0460 - accuracy: 0.9951 - val_loss: 0.5380 - val_accuracy: 0.9605\n",
            "Epoch 34/100\n",
            "304/304 [==============================] - 28s 94ms/step - loss: 0.0321 - accuracy: 0.9918 - val_loss: 0.0109 - val_accuracy: 0.9934\n",
            "Epoch 35/100\n",
            "304/304 [==============================] - 29s 95ms/step - loss: 0.0028 - accuracy: 0.9984 - val_loss: 0.0073 - val_accuracy: 1.0000\n",
            "Epoch 36/100\n",
            "304/304 [==============================] - 28s 93ms/step - loss: 0.0033 - accuracy: 0.9984 - val_loss: 0.0309 - val_accuracy: 0.9934\n",
            "Epoch 37/100\n",
            "304/304 [==============================] - 33s 109ms/step - loss: 0.0023 - accuracy: 1.0000 - val_loss: 0.0417 - val_accuracy: 0.9934\n",
            "Epoch 38/100\n",
            "304/304 [==============================] - 33s 109ms/step - loss: 0.0095 - accuracy: 0.9984 - val_loss: 0.0296 - val_accuracy: 0.9934\n",
            "Epoch 39/100\n",
            "304/304 [==============================] - 34s 112ms/step - loss: 0.0035 - accuracy: 0.9967 - val_loss: 0.0318 - val_accuracy: 0.9934\n",
            "Epoch 40/100\n",
            "304/304 [==============================] - 29s 96ms/step - loss: 0.0033 - accuracy: 0.9984 - val_loss: 0.0984 - val_accuracy: 0.9868\n",
            "Epoch 41/100\n",
            "304/304 [==============================] - 28s 93ms/step - loss: 0.0016 - accuracy: 1.0000 - val_loss: 0.0308 - val_accuracy: 0.9934\n",
            "Epoch 42/100\n",
            "304/304 [==============================] - 29s 94ms/step - loss: 0.0151 - accuracy: 0.9984 - val_loss: 0.0420 - val_accuracy: 0.9868\n",
            "Epoch 43/100\n",
            "304/304 [==============================] - 34s 113ms/step - loss: 0.0097 - accuracy: 0.9984 - val_loss: 0.0840 - val_accuracy: 0.9868\n",
            "Epoch 44/100\n",
            "304/304 [==============================] - 33s 110ms/step - loss: 0.0057 - accuracy: 0.9984 - val_loss: 0.1129 - val_accuracy: 0.9868\n",
            "Epoch 45/100\n",
            "304/304 [==============================] - 34s 111ms/step - loss: 0.0099 - accuracy: 0.9967 - val_loss: 0.0724 - val_accuracy: 0.9868\n",
            "Epoch 46/100\n",
            "304/304 [==============================] - 28s 93ms/step - loss: 0.2779 - accuracy: 0.9901 - val_loss: 0.4384 - val_accuracy: 0.9737\n",
            "Epoch 47/100\n",
            "304/304 [==============================] - 28s 93ms/step - loss: 0.0941 - accuracy: 0.9934 - val_loss: 0.7717 - val_accuracy: 0.9868\n",
            "Epoch 48/100\n",
            "304/304 [==============================] - 28s 93ms/step - loss: 0.3859 - accuracy: 0.9885 - val_loss: 0.5116 - val_accuracy: 0.9803\n",
            "Epoch 49/100\n",
            "304/304 [==============================] - 28s 93ms/step - loss: 0.0157 - accuracy: 0.9984 - val_loss: 0.5386 - val_accuracy: 0.9803\n",
            "Epoch 50/100\n",
            "304/304 [==============================] - 33s 109ms/step - loss: 0.0040 - accuracy: 0.9984 - val_loss: 0.6232 - val_accuracy: 0.9868\n",
            "Epoch 51/100\n",
            "304/304 [==============================] - 28s 93ms/step - loss: 4.2792e-04 - accuracy: 1.0000 - val_loss: 0.6104 - val_accuracy: 0.9868\n",
            "Epoch 52/100\n",
            "304/304 [==============================] - 33s 109ms/step - loss: 0.0033 - accuracy: 0.9984 - val_loss: 0.6089 - val_accuracy: 0.9803\n",
            "Epoch 53/100\n",
            "304/304 [==============================] - 28s 93ms/step - loss: 0.4089 - accuracy: 0.9868 - val_loss: 0.1934 - val_accuracy: 0.9868\n",
            "Epoch 54/100\n",
            "304/304 [==============================] - 28s 93ms/step - loss: 0.0083 - accuracy: 0.9984 - val_loss: 0.1233 - val_accuracy: 0.9868\n",
            "Epoch 55/100\n",
            "304/304 [==============================] - 33s 109ms/step - loss: 0.0015 - accuracy: 1.0000 - val_loss: 0.0693 - val_accuracy: 0.9934\n",
            "Epoch 56/100\n",
            "304/304 [==============================] - 33s 109ms/step - loss: 5.0550e-04 - accuracy: 1.0000 - val_loss: 0.0802 - val_accuracy: 0.9934\n",
            "Epoch 57/100\n",
            "304/304 [==============================] - 33s 109ms/step - loss: 1.3136e-04 - accuracy: 1.0000 - val_loss: 0.0704 - val_accuracy: 0.9934\n",
            "Epoch 58/100\n",
            "304/304 [==============================] - 33s 109ms/step - loss: 8.1214e-06 - accuracy: 1.0000 - val_loss: 0.0718 - val_accuracy: 0.9934\n",
            "Epoch 59/100\n",
            "304/304 [==============================] - 28s 93ms/step - loss: 8.3330e-06 - accuracy: 1.0000 - val_loss: 0.0692 - val_accuracy: 0.9934\n",
            "Epoch 60/100\n",
            "304/304 [==============================] - 33s 109ms/step - loss: 2.1275e-06 - accuracy: 1.0000 - val_loss: 0.0788 - val_accuracy: 0.9934\n",
            "Epoch 61/100\n",
            "304/304 [==============================] - 33s 109ms/step - loss: 9.8809e-06 - accuracy: 1.0000 - val_loss: 0.0798 - val_accuracy: 0.9934\n",
            "Epoch 62/100\n",
            "304/304 [==============================] - 33s 109ms/step - loss: 1.1395e-05 - accuracy: 1.0000 - val_loss: 0.0750 - val_accuracy: 0.9934\n",
            "Epoch 63/100\n",
            "304/304 [==============================] - 33s 109ms/step - loss: 2.1399e-06 - accuracy: 1.0000 - val_loss: 0.0747 - val_accuracy: 0.9934\n",
            "Epoch 64/100\n",
            "304/304 [==============================] - 33s 109ms/step - loss: 1.3589e-05 - accuracy: 1.0000 - val_loss: 0.0781 - val_accuracy: 0.9934\n",
            "Epoch 65/100\n",
            "304/304 [==============================] - 28s 93ms/step - loss: 3.3940e-06 - accuracy: 1.0000 - val_loss: 0.0780 - val_accuracy: 0.9934\n"
          ]
        }
      ]
    },
    {
      "cell_type": "code",
      "execution_count": null,
      "metadata": {
        "colab": {
          "base_uri": "https://localhost:8080/",
          "height": 404
        },
        "id": "pHVr5VKR8uUb",
        "outputId": "ee138436-4478-4143-cc25-649bac97d916"
      },
      "outputs": [
        {
          "output_type": "display_data",
          "data": {
            "text/plain": [
              "<Figure size 1080x432 with 2 Axes>"
            ],
            "image/png": "[encoded data removed]"
          },
          "metadata": {
            "needs_background": "light"
          }
        }
      ],
      "source": [
        "# Plot training & validation accuracy values\n",
        "plt.figure(figsize=(15, 6))\n",
        "plt.subplot(121)\n",
        "plt.plot(history.history['accuracy'])\n",
        "plt.plot(history.history['val_accuracy'])\n",
        "plt.title('VGG16 multi-channel Protein Images training accuracy vs validation accuracy')\n",
        "plt.ylabel('Accuracy')\n",
        "plt.xlabel('Epoch')\n",
        "plt.ylim((0.75,1.005))\n",
        "plt.legend(['Train', 'validation'], loc='lower right')\n",
        "\n",
        "\n",
        "# Plot training & validation loss values\n",
        "plt.subplot(122)\n",
        "plt.plot(history.history['loss'])\n",
        "plt.plot(history.history['val_loss'])\n",
        "plt.title('VGG16 multi-channel Protein Images training loss vs validation loss')\n",
        "plt.ylabel('Loss')\n",
        "plt.xlabel('Epoch')\n",
        "plt.ylim((-0.10,5))\n",
        "plt.legend(['Train', 'Validation'], loc='upper right')\n",
        "plt.show()"
      ]
    },
    {
      "cell_type": "markdown",
      "source": [
        "##**Predictions**"
      ],
      "metadata": {
        "id": "z3waaf46P95m"
      }
    },
    {
      "cell_type": "code",
      "execution_count": null,
      "metadata": {
        "colab": {
          "base_uri": "https://localhost:8080/"
        },
        "id": "jXTezthuKTIV",
        "outputId": "82a941de-65d1-4168-d10c-c7637444322b"
      },
      "outputs": [
        {
          "output_type": "stream",
          "name": "stdout",
          "text": [
            "Test loss: 0.1664576530456543 / Test accuracy: 0.9842105507850647\n"
          ]
        }
      ],
      "source": [
        "# Generate generalization metrics\n",
        "score = model.evaluate(X_test_normal,y_test,verbose=0)\n",
        "print(f'Test loss: {score[0]} / Test accuracy: {score[1]}')"
      ]
    },
    {
      "cell_type": "markdown",
      "metadata": {
        "id": "bhEL2ws0-9ee"
      },
      "source": [
        "**Saving the model**\n",
        "\n",
        "The saved full model file includes:\n",
        "\n",
        "The model's architecture,The model's weight values"
      ]
    },
    {
      "cell_type": "code",
      "execution_count": null,
      "metadata": {
        "colab": {
          "base_uri": "https://localhost:8080/"
        },
        "id": "qaZDxaSfr2Y5",
        "outputId": "a3133969-66f8-4436-97be-425cead40d0d"
      },
      "outputs": [
        {
          "output_type": "stream",
          "name": "stdout",
          "text": [
            "saved the model\n"
          ]
        }
      ],
      "source": [
        "model.save('/content/drive/MyDrive/Saliency_Maps_Stacked_Images/VGG16_Concat_Proteins.h5')\n",
        "print(\"saved the model\")"
      ]
    },
    {
      "cell_type": "markdown",
      "metadata": {
        "id": "ya0lBe2Cr-V6"
      },
      "source": [
        "**Loading the model**"
      ]
    },
    {
      "cell_type": "code",
      "execution_count": 16,
      "metadata": {
        "id": "TIZQUHM2rvch"
      },
      "outputs": [],
      "source": [
        "model_loaded = load_model(\"/content/drive/MyDrive/Saliency_Maps_Stacked_Images/VGG16_Concat_Proteins.h5\")"
      ]
    },
    {
      "cell_type": "markdown",
      "source": [
        "#**Predictions**"
      ],
      "metadata": {
        "id": "HfS7eCU9KX0z"
      }
    },
    {
      "cell_type": "code",
      "source": [
        "from sklearn.metrics import confusion_matrix\n",
        "from sklearn.metrics import precision_score, recall_score, f1_score, accuracy_score\n",
        "import matplotlib.pyplot as plt\n",
        "import math\n",
        "y_true_classes = np.argmax(y_test, axis = 1)\n",
        "#print(y_true_classes)\n",
        "y_pred = model.predict(X_test_normal)\n",
        "yhat_classes = np.argmax(y_pred,axis=1) \n",
        "#print(yhat_classes) "
      ],
      "metadata": {
        "id": "HZbo9CljKXea"
      },
      "execution_count": null,
      "outputs": []
    },
    {
      "cell_type": "markdown",
      "source": [
        "**Accuracy,precision,recall values and f1 score**"
      ],
      "metadata": {
        "id": "XESvcY5aNCyS"
      }
    },
    {
      "cell_type": "code",
      "source": [
        "accuracy_VGG16=accuracy_score(y_true_classes,yhat_classes)\n",
        "print(\"Accuracy: %f\" % accuracy_VGG16)\n",
        "precision_VGG16=precision_score(y_true_classes,yhat_classes,average='weighted')\n",
        "print(\"Precision: %f\" % precision_VGG16)\n",
        "recall_VGG16=recall_score(y_true_classes,yhat_classes,average='weighted')\n",
        "print(\"Recall: %f\" % recall_VGG16)\n",
        "VGG16_F1_score=f1_score(y_true_classes,yhat_classes,average='weighted')\n",
        "print(\"F1_score: %f\" % VGG16_F1_score)"
      ],
      "metadata": {
        "colab": {
          "base_uri": "https://localhost:8080/"
        },
        "id": "G1aWlA2GKdtZ",
        "outputId": "9cad525b-4b54-4c28-f8fb-5cdd1e4436cc"
      },
      "execution_count": null,
      "outputs": [
        {
          "output_type": "stream",
          "name": "stdout",
          "text": [
            "Accuracy: 0.984211\n",
            "Precision: 0.984533\n",
            "Recall: 0.984211\n",
            "F1_score: 0.984026\n"
          ]
        }
      ]
    },
    {
      "cell_type": "code",
      "source": [
        "from sklearn.metrics import confusion_matrix\n",
        "\n",
        "confusion_mat = confusion_matrix(y_true_classes, yhat_classes>0.5)"
      ],
      "metadata": {
        "id": "_e8LNez7NdYa"
      },
      "execution_count": null,
      "outputs": []
    },
    {
      "cell_type": "code",
      "source": [
        "fig, ax = plt.subplots()\n",
        "\n",
        "ax.matshow(confusion_mat, cmap=plt.cm.Blues)\n",
        "\n",
        "ax.set_xlabel('Prediction')\n",
        "ax.set_ylabel('True Label')\n",
        "\n",
        "tick_labels = ['Control', 'Patient']\n",
        "\n",
        "ax.set_xticks(range(len(tick_labels)))\n",
        "ax.set_yticks(range(len(tick_labels)))\n",
        "ax.set_xticklabels(tick_labels)\n",
        "ax.set_yticklabels(tick_labels)\n",
        "\n",
        "for i in range(len(tick_labels)):\n",
        "    for j in range(len(tick_labels)):\n",
        "        ax.text(j, i, confusion_mat[i, j],\n",
        "               ha='center', va='center')\n",
        "        \n",
        "plt.figure(figsize=(15,10))\n",
        "plt.show()"
      ],
      "metadata": {
        "colab": {
          "base_uri": "https://localhost:8080/",
          "height": 296
        },
        "id": "Z58RQvVXNi5J",
        "outputId": "d4b17232-c188-4ffa-8029-aa83e32f5be7"
      },
      "execution_count": null,
      "outputs": [
        {
          "output_type": "display_data",
          "data": {
            "text/plain": [
              "<Figure size 432x288 with 1 Axes>"
            ],
            "image/png": "[encoded data removed]"
          },
          "metadata": {
            "needs_background": "light"
          }
        },
        {
          "output_type": "display_data",
          "data": {
            "text/plain": [
              "<Figure size 1080x720 with 0 Axes>"
            ]
          },
          "metadata": {}
        }
      ]
    },
    {
      "cell_type": "markdown",
      "source": [
        "**Random Prediction**"
      ],
      "metadata": {
        "id": "rljt5VImdlJW"
      }
    },
    {
      "cell_type": "markdown",
      "source": [
        "**For Control:**"
      ],
      "metadata": {
        "id": "0ltZvtdw7GpO"
      }
    },
    {
      "cell_type": "code",
      "source": [
        "test_numpy_1=np.load('/content/drive/MyDrive/Saliency_Maps_Stacked_Images/Testing/C02_image__711.npy')\n",
        "test_np_1=np.asarray(test_numpy_1.tolist())\n",
        "test_np_1= test_np_1.reshape(1,512,512,10)\n",
        "prediction_class = model_loaded.predict(test_np_1)\n",
        "print(\"Predicted: {}\".format(np.argmax(prediction_class)))"
      ],
      "metadata": {
        "colab": {
          "base_uri": "https://localhost:8080/"
        },
        "id": "ibrlIL1e552w",
        "outputId": "3432ad5f-de24-4971-afce-4b131e5cfdc4"
      },
      "execution_count": 24,
      "outputs": [
        {
          "output_type": "stream",
          "name": "stdout",
          "text": [
            "Predicted: 0\n"
          ]
        }
      ]
    },
    {
      "cell_type": "markdown",
      "source": [
        "**For Patient**"
      ],
      "metadata": {
        "id": "zKkI15mP7L6G"
      }
    },
    {
      "cell_type": "code",
      "source": [
        "test_numpy_1=np.load('/content/drive/MyDrive/Saliency_Maps_Stacked_Images/Testing/P01_image__47.npy')\n",
        "test_np_1=np.asarray(test_numpy_1.tolist())\n",
        "test_np_1= test_np_1.reshape(1,512,512,10)\n",
        "prediction_class = model_loaded.predict(test_np_1)\n",
        "print(\"Predicted: {}\".format(np.argmax(prediction_class)))"
      ],
      "metadata": {
        "colab": {
          "base_uri": "https://localhost:8080/"
        },
        "id": "NPPYLMPv7M7c",
        "outputId": "b929a5df-8b1f-4a15-9db6-bd55af7269b4"
      },
      "execution_count": 25,
      "outputs": [
        {
          "output_type": "stream",
          "name": "stdout",
          "text": [
            "Predicted: 1\n"
          ]
        }
      ]
    },
    {
      "cell_type": "markdown",
      "source": [
        "**Random Prediction from Dataframe**"
      ],
      "metadata": {
        "id": "VeY2xRax7eXn"
      }
    },
    {
      "cell_type": "code",
      "source": [
        "test_numpy_1=df['image'][50]\n",
        "test_numpy_2=df['image'][100]\n",
        "test_numpy_3=df['image'][400]\n",
        "test_numpy_4=df['image'][768]"
      ],
      "metadata": {
        "id": "fiZIooqLe6DT"
      },
      "execution_count": null,
      "outputs": []
    },
    {
      "cell_type": "code",
      "source": [
        "test_np_1=np.asarray(test_numpy_1.tolist())\n",
        "test_np_1= test_np_1.reshape(1,512,512,10)\n",
        "test_np_2=np.asarray(test_numpy_2.tolist())\n",
        "test_np_2= test_np_2.reshape(1,512,512,10)\n",
        "test_np_3=np.asarray(test_numpy_3.tolist())\n",
        "test_np_3= test_np_3.reshape(1,512,512,10)\n",
        "test_np_4=np.asarray(test_numpy_4.tolist())\n",
        "test_np_4= test_np_4.reshape(1,512,512,10)"
      ],
      "metadata": {
        "id": "HcLv3-OTg69V"
      },
      "execution_count": null,
      "outputs": []
    },
    {
      "cell_type": "code",
      "source": [
        "prediction_class = model.predict(test_np_1)\n",
        "print(\"Actual:\",df['category'][50])\n",
        "print(\"Predicted: {}\".format(np.argmax(prediction_class)))\n",
        "prediction_class = model.predict(test_np_2)\n",
        "print(\"Actual:\",df['category'][100])\n",
        "print(\"Predicted: {}\".format(np.argmax(prediction_class)))\n",
        "prediction_class = model.predict(test_np_3)\n",
        "print(\"Actual:\",df['category'][400])\n",
        "print(\"Predicted: {}\".format(np.argmax(prediction_class)))\n",
        "prediction_class = model.predict(test_np_4)\n",
        "print(\"Actual:\",df['category'][768])\n",
        "print(\"Predicted: {}\".format(np.argmax(prediction_class)))"
      ],
      "metadata": {
        "colab": {
          "base_uri": "https://localhost:8080/"
        },
        "id": "f18GM8TDetMp",
        "outputId": "ac1a82bc-3cf9-492c-88b3-1a1854f67ac7"
      },
      "execution_count": null,
      "outputs": [
        {
          "output_type": "stream",
          "name": "stdout",
          "text": [
            "Actual: 0\n",
            "Predicted: 0\n",
            "Actual: 0\n",
            "Predicted: 0\n",
            "Actual: 1\n",
            "Predicted: 1\n",
            "Actual: 1\n",
            "Predicted: 1\n"
          ]
        }
      ]
    },
    {
      "cell_type": "markdown",
      "source": [
        "**!Thank you**"
      ],
      "metadata": {
        "id": "qp6vX8nHi8ce"
      }
    }
  ],
  "metadata": {
    "accelerator": "GPU",
    "colab": {
      "collapsed_sections": [
        "ADiR6jyFy-WN"
      ],
      "provenance": []
    },
    "gpuClass": "standard",
    "kernelspec": {
      "display_name": "Python 3",
      "name": "python3"
    },
    "language_info": {
      "name": "python"
    }
  },
  "nbformat": 4,
  "nbformat_minor": 0
}